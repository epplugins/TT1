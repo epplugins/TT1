{
 "cells": [
  {
   "attachments": {},
   "cell_type": "markdown",
   "metadata": {},
   "source": [
    "# Análisis Exploratorio 1\n",
    "\n",
    "Análisis preliminar antes de crear variables nuevas.\n",
    "\n",
    "El resultado se encuentra en ``eda_reporte_01.html``."
   ]
  },
  {
   "cell_type": "code",
   "execution_count": 1,
   "metadata": {},
   "outputs": [],
   "source": [
    "import pandas as pd\n",
    "from ydata_profiling import ProfileReport"
   ]
  },
  {
   "cell_type": "code",
   "execution_count": 2,
   "metadata": {},
   "outputs": [
    {
     "name": "stdout",
     "output_type": "stream",
     "text": [
      "Cantidad de observaciones: 233615\n"
     ]
    }
   ],
   "source": [
    "df = pd.read_csv(\"../datos/dataset_01.csv\")\n",
    "print(\"Cantidad de observaciones:\", len(df))"
   ]
  },
  {
   "cell_type": "code",
   "execution_count": 3,
   "metadata": {},
   "outputs": [
    {
     "name": "stdout",
     "output_type": "stream",
     "text": [
      "<class 'pandas.core.frame.DataFrame'>\n",
      "RangeIndex: 233615 entries, 0 to 233614\n",
      "Data columns (total 15 columns):\n",
      " #   Column      Non-Null Count   Dtype  \n",
      "---  ------      --------------   -----  \n",
      " 0   anio        233615 non-null  int64  \n",
      " 1   cuat        233615 non-null  int64  \n",
      " 2   dni         233615 non-null  int64  \n",
      " 3   COMISION    233615 non-null  float64\n",
      " 4   HORARIO     233615 non-null  float64\n",
      " 5   AULA        233615 non-null  float64\n",
      " 6   SEDE        233615 non-null  int64  \n",
      " 7   MATERIA     233615 non-null  int64  \n",
      " 8   pa1         111741 non-null  float64\n",
      " 9   pa2         81307 non-null   float64\n",
      " 10  Final       18428 non-null   float64\n",
      " 11  codCarrera  233615 non-null  int64  \n",
      " 12  facultad    233615 non-null  object \n",
      " 13  rem1        5107 non-null    float64\n",
      " 14  rem2        1608 non-null    float64\n",
      "dtypes: float64(8), int64(6), object(1)\n",
      "memory usage: 26.7+ MB\n"
     ]
    }
   ],
   "source": [
    "df.info()"
   ]
  },
  {
   "cell_type": "code",
   "execution_count": 4,
   "metadata": {},
   "outputs": [],
   "source": [
    "profile = ProfileReport(df, title=\"Análisis exploratorio preliminar\")"
   ]
  },
  {
   "cell_type": "code",
   "execution_count": 5,
   "metadata": {},
   "outputs": [
    {
     "data": {
      "application/vnd.jupyter.widget-view+json": {
       "model_id": "cdbfc488a42a4306aa3d69b4085b55b2",
       "version_major": 2,
       "version_minor": 0
      },
      "text/plain": [
       "Summarize dataset:   0%|          | 0/5 [00:00<?, ?it/s]"
      ]
     },
     "metadata": {},
     "output_type": "display_data"
    },
    {
     "data": {
      "application/vnd.jupyter.widget-view+json": {
       "model_id": "b8d8dfc0abd646ce997a7daf54bdfe3f",
       "version_major": 2,
       "version_minor": 0
      },
      "text/plain": [
       "Generate report structure:   0%|          | 0/1 [00:00<?, ?it/s]"
      ]
     },
     "metadata": {},
     "output_type": "display_data"
    },
    {
     "data": {
      "application/vnd.jupyter.widget-view+json": {
       "model_id": "3071ed4c68274546adb3dba915e19514",
       "version_major": 2,
       "version_minor": 0
      },
      "text/plain": [
       "Render HTML:   0%|          | 0/1 [00:00<?, ?it/s]"
      ]
     },
     "metadata": {},
     "output_type": "display_data"
    },
    {
     "data": {
      "application/vnd.jupyter.widget-view+json": {
       "model_id": "765f2e2054c649c480c7641d5f2a4418",
       "version_major": 2,
       "version_minor": 0
      },
      "text/plain": [
       "Export report to file:   0%|          | 0/1 [00:00<?, ?it/s]"
      ]
     },
     "metadata": {},
     "output_type": "display_data"
    }
   ],
   "source": [
    "profile.to_file(\"eda_reporte_01.html\")"
   ]
  },
  {
   "cell_type": "code",
   "execution_count": null,
   "metadata": {},
   "outputs": [],
   "source": []
  }
 ],
 "metadata": {
  "kernelspec": {
   "display_name": "tt1",
   "language": "python",
   "name": "python3"
  },
  "language_info": {
   "codemirror_mode": {
    "name": "ipython",
    "version": 3
   },
   "file_extension": ".py",
   "mimetype": "text/x-python",
   "name": "python",
   "nbconvert_exporter": "python",
   "pygments_lexer": "ipython3",
   "version": "3.11.2"
  },
  "orig_nbformat": 4,
  "vscode": {
   "interpreter": {
    "hash": "98bd94b3c9f9ce543e5777994be08e60f19db062ab2cdbe3fd92ac24740bd08d"
   }
  }
 },
 "nbformat": 4,
 "nbformat_minor": 2
}
