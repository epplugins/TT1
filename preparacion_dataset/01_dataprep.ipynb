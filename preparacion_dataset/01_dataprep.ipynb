{
 "cells": [
  {
   "attachments": {},
   "cell_type": "markdown",
   "id": "f9703b00-c20e-4a8a-999e-a1b620191888",
   "metadata": {},
   "source": [
    "# Limpieza y preparación de los datos\n",
    "\n",
    "30 may 2023\n",
    "\n",
    "**Este código no se puede ejecutar porque los datos originales no se comparten en este\n",
    "repositorio público, para no revelar los números de documento de los estudiantes.**\n",
    "\n",
    "Resultado guardado en:  ``../datos/dataset_01.csv``\n",
    "\n",
    "En ``../datos/codigos_carreras.csv`` está la referencia del nombre de carrera para cada código.\n",
    "\n",
    "Limpieza y correcciones\n",
    "1. Eliminados Nombre y Apellido.\n",
    "1. Se corrigieron los nombres de Facultades y Carreras. (Caracteres extraños, diferentes denominaciones para una misma carrera, etc)\n",
    "1. Códigos de carrera: se completaron los registros con valores faltantes, usando los códigos de otros registros con la misma carrera. En algunos casos se buscó el código informado en la página del CBC.\n",
    "1. Códigos de carrera 99 y 999 no tienen ninguna carrera asociada. En los casos de alumnos recursantes con algún registro con código 99 o 999, se modificó este valor con el código de alguna de las carreras en las que estaba anotado.\n",
    "1. Se eliminaron los registros con códigos de carreras inexistentes o sin código ni información sobre carrera o facultad (~80 registros)\n",
    "1. Calificaciones: se corrigieron valores extraños\n",
    "1. Remamentes: los estudiantes en condición de rendir final tienen 3 oportunidades consecutivas. Se tiene una tabla con las notas de los remanentes (2da y 3ra oportunidad) para cada examen final. Se incorporó esta información en las columnas rem1 y rem2.\n",
    "1. Remanentes: la nota 99 se usa para ausentes, pero también hay valores NaN. Se cambiaron los 99 por NaN.\n",
    "1. Corregidas Comisiones NaN.\n",
    "1. Corregidas Aulas NaN.\n",
    "\n",
    "    \n",
    "    \n",
    "TODO:\n",
    "1. Alrededor de un 12% de los registros tiene un código de carrera (99 o 999) que no está asociado a ninguna carrera ni facultad. Luego de un análisis exploratorio se decidirá si imputar o no esos valores y cómo hacerlo.\n"
   ]
  },
  {
   "cell_type": "code",
   "execution_count": 53,
   "id": "3e2a0784-8a1b-4448-91a6-3d95707f0dd7",
   "metadata": {},
   "outputs": [],
   "source": [
    "import pandas as pd\n",
    "import numpy as np"
   ]
  },
  {
   "cell_type": "code",
   "execution_count": 54,
   "id": "750aef97-ce59-441c-937a-0c5c4ceadf85",
   "metadata": {},
   "outputs": [
    {
     "name": "stdout",
     "output_type": "stream",
     "text": [
      "Cantidad de registros: 233695\n"
     ]
    }
   ],
   "source": [
    "df = pd.read_csv(\"../datos/dataset_ori.csv\")\n",
    "df = df.drop(['Apellido', 'NOMBRE'], axis=1)\n",
    "# Hay una observación repetida tres veces, elimino dos ocurrencias:\n",
    "df = df.drop(20782)\n",
    "df = df.drop(20783)\n",
    "print(\"Cantidad de registros:\",len(df))"
   ]
  },
  {
   "cell_type": "code",
   "execution_count": 55,
   "id": "b9e62ce7-45b8-4d65-a9c5-fa288096e63a",
   "metadata": {},
   "outputs": [
    {
     "name": "stdout",
     "output_type": "stream",
     "text": [
      "[nan 'CS EXACTAS Y NATURALES' 'CIENCIAS ECONOMICAS' 'INGENIERIA'\n",
      " 'ARQUITECTURA Y URBANISMO' 'FARMACIA Y BIOQUIMICA' 'CIENCIAS SOCIALES'\n",
      " 'DERECHO' 'AGRONOMIA' 'FILOSOFIA Y LETRAS' 'MEDICINA'\n",
      " 'CIENCIAS VETERINARIAS' 'Medicina' 'PSICOLOGIA' 'ODONTOLOGIA'\n",
      " 'no definida' 'inscripci�n diferida']\n"
     ]
    }
   ],
   "source": [
    "################################################\n",
    "#\n",
    "# Limpieza de los nombres de las facultades.\n",
    "#\n",
    "################################################\n",
    "\n",
    "facultades = df['facultad'].unique()\n",
    "print(facultades)"
   ]
  },
  {
   "cell_type": "code",
   "execution_count": 56,
   "id": "0ac29b0c-e7f3-4368-8a13-b0425459486c",
   "metadata": {},
   "outputs": [
    {
     "name": "stdout",
     "output_type": "stream",
     "text": [
      "[nan 'CS EXACTAS Y NATURALES' 'CIENCIAS ECONOMICAS' 'INGENIERIA'\n",
      " 'ARQUITECTURA Y URBANISMO' 'FARMACIA Y BIOQUIMICA' 'CIENCIAS SOCIALES'\n",
      " 'DERECHO' 'AGRONOMIA' 'FILOSOFIA Y LETRAS' 'MEDICINA'\n",
      " 'CIENCIAS VETERINARIAS' 'PSICOLOGIA' 'ODONTOLOGIA']\n"
     ]
    }
   ],
   "source": [
    "df.loc[df[\"facultad\"] == \"Medicina\", \"facultad\"] = \"MEDICINA\"\n",
    "df.loc[df[\"facultad\"] == 'no definida', \"facultad\"] = np.nan\n",
    "df.loc[df[\"facultad\"] == facultades[-1], \"facultad\"] = np.nan\n",
    "print(df['facultad'].unique())"
   ]
  },
  {
   "cell_type": "code",
   "execution_count": 57,
   "id": "13a1695d-2944-4af5-8e50-78096f281c91",
   "metadata": {},
   "outputs": [
    {
     "name": "stdout",
     "output_type": "stream",
     "text": [
      "['INGENIERIA CIVIL' 'CIENCIAS BIOLOGICAS' 'INGENIERIA MECANICA'\n",
      " 'INGENIERIA ELECTRONICA' 'MEDICINA' 'CIENCIAS FISICAS'\n",
      " 'INGENIERIA INFORMATICA' 'ADMINISTRACION' 'CONTADOR PUBLICO'\n",
      " 'INGENIERIA NAVAL Y MECAN.' 'INGENIERIA INDUSTRIAL'\n",
      " 'CIENCIAS MATEMATICAS' 'INGENIERIA QUIMICA' 'ANALISTA DE SISTEMAS'\n",
      " 'ARQUITECTURA' 'INGENIERIA ELECTRICISTA' 'CIENCIAS GEOLOGICAS'\n",
      " 'BIOQUIMICA' 'LETRAS' 'PROF.E.M.S EN BIOLOGIA' 'NUTRICIONISTA DIETISTA'\n",
      " 'CS DE LA COMPUTACION' 'CIENCIAS QUIMICAS' 'INGENIERIA EN AGRIMENSURA'\n",
      " 'LIC. EN OCEANOGRAFIA' 'CS DE LA ATMOSFERA' 'FLORICULTURA'\n",
      " 'CS DE LA COMUNICACION' 'OBSTETRICIA' 'ECONOMIA' 'FILOSOFIA'\n",
      " 'PALEONTOLOGIA' 'FARMACIA' 'PROF.E.M.S.EN MATEMATICA' 'CIENCIA POLITICA'\n",
      " 'PSICOLOGIA' 'HISTORIA' 'ABOGACIA' 'DISE�O GRAFICO' 'AGRONOMIA'\n",
      " 'OPTICO TECNICO' 'VETERINARIA' 'B.U.EN CS DE LA ATMOSFERA'\n",
      " 'DIS. DE IND. Y TEXTIL' 'PROF.E.M.S.EN COMPUTACION' 'KINESIOLOGIA'\n",
      " 'FONOAUDIOLOGIA' 'ODONTOLOGIA' 'LIC.EN CS. AMBIENTALES'\n",
      " 'TECNICO RADIOLOGO UNIVERS' 'ENFERMERIA' 'RELACIONES DEL TRABAJO' nan\n",
      " 'TEC.UNIV.EN MED. NUCLEAR' 'DISE�O INDUSTRIAL' 'ANTROPOLOGIA'\n",
      " 'PROF.E.M.S.EN FISICA' 'DIS. DE IMAGEN Y SONIDO' 'TRADUCTOR PUBLICO'\n",
      " 'ARTE' 'ACTUARIO' 'PROF.E.M.S.EN QUIMICA' 'SISTEMAS DE INFORMACION'\n",
      " 'TERAPIA OCUPACIONAL' 'CIENCIAS DE LA EDUCACION' 'TECNICO PARA BIOTERIOS'\n",
      " 'ECONOMIA Y ADMIN.AGRARIAS' 'GEOGRAFIA' 'SOCIOLOGIA'\n",
      " 'PROD.VEGETAL ORGANICA' 'ACTURIO EN ECONOMIA' 'PROF.E.M.S.EN GEOLOGIA'\n",
      " 'EDICION' 'sin definir' 'Medicina' 'INGENIERIA NAVAL'\n",
      " 'PEMysup Matem�tica' 'LIC.EN   CS.AMBIENTALES' 'Musicoterapia'\n",
      " 'T�cnico Radi�logo Universitario' 'TEC.PROD.VEGETAL ORGANICA'\n",
      " 'PEMysup Biolog�a' 'TECNICO EN EDICION' 'TECNICO EN BIOTERIO'\n",
      " 'PEMysup Computaci�n' 'LIC. EN ENFERMERIA'\n",
      " 'Lic. en Producci�n de Bioim�genes' 'T�cnico en Medicna Nuclear'\n",
      " 'CALIGRAFO PUBLICO' 'JARDINERIA' 'PEMysup F�sica' 'TRABAJO SOCIAL'\n",
      " 'ciencias ambientales' 'PEMysup Qu�mica' 'BIBLIOTECOLOGIA'\n",
      " 'DISE�O DEL PAISAJE' 'PEMysup Geolog�a' 'no definida'\n",
      " 'TEC.EN CONST.NAVALES' 'TEC.ADMIN.Y GESTION UNIV' 'no determinada'\n",
      " 'T�cnico en Turismo Rural' 'MUSICOTERAPIA'\n",
      " 'PEMysup Biolog�a C. Atm�sfera' 'T�cnico en instrumentaci�n quir�rgica'\n",
      " 'T�cnico en pr�cticas cardiol�gicas'\n",
      " 'T�cnico en hemoterapia e inmunohemoterapia' 'T�cnico en Podolog�a'\n",
      " 'inscripci�n diferida' 'indefinida'\n",
      " 'Tecnicatura Universitaria en Cosmetolof�a Facial y Corporal' 'Matillero'\n",
      " 'T�cnico Universitario en Anestesia' 'nueva']\n"
     ]
    }
   ],
   "source": [
    "################################################\n",
    "#\n",
    "# Limpieza de los nombres de carreras.\n",
    "#\n",
    "################################################\n",
    "\n",
    "carreras = df['Carrera'].unique()\n",
    "print(carreras)"
   ]
  },
  {
   "cell_type": "code",
   "execution_count": 58,
   "id": "31f74af6-ed0f-42dc-ada0-f5081c77ba03",
   "metadata": {
    "tags": []
   },
   "outputs": [
    {
     "name": "stdout",
     "output_type": "stream",
     "text": [
      "['INGENIERIA CIVIL' 'CIENCIAS BIOLOGICAS' 'INGENIERIA MECANICA'\n",
      " 'INGENIERIA ELECTRONICA' 'MEDICINA' 'CIENCIAS FISICAS'\n",
      " 'INGENIERIA INFORMATICA' 'ADMINISTRACION' 'CONTADOR PUBLICO'\n",
      " 'INGENIERIA NAVAL' 'INGENIERIA INDUSTRIAL' 'CIENCIAS MATEMATICAS'\n",
      " 'INGENIERIA QUIMICA' 'ANALISTA DE SISTEMAS' 'ARQUITECTURA'\n",
      " 'INGENIERIA ELECTRICISTA' 'CIENCIAS GEOLOGICAS' 'BIOQUIMICA' 'LETRAS'\n",
      " 'PROF. E. M. y S. EN BIOLOGIA' 'NUTRICIONISTA DIETISTA'\n",
      " 'CIENCIAS DE LA COMPUTACION' 'CIENCIAS QUIMICAS'\n",
      " 'INGENIERIA EN AGRIMENSURA' 'OCEANOGRAFIA' 'CIENCIAS DE LA ATMOSFERA'\n",
      " 'FLORICULTURA' 'CIENCIAS DE LA COMUNICACION' 'OBSTETRICIA' 'ECONOMIA'\n",
      " 'FILOSOFIA' 'PALEONTOLOGIA' 'FARMACIA' 'PROF. E. M. y S. EN MATEMATICA'\n",
      " 'CIENCIA POLITICA' 'PSICOLOGIA' 'HISTORIA' 'ABOGACIA' 'DISEÑO GRAFICO'\n",
      " 'AGRONOMIA' 'OPTICO TECNICO' 'VETERINARIA' 'DIS. DE IND. Y TEXTIL'\n",
      " 'PROF. E. M. y S. EN COMPUTACION' 'KINESIOLOGIA' 'FONOAUDIOLOGIA'\n",
      " 'ODONTOLOGIA' 'CIENCIAS AMBIENTALES' 'TECNICO RADIOLOGO UNIVERS'\n",
      " 'ENFERMERIA' 'RELACIONES DEL TRABAJO' nan 'TEC.UNIV.EN MED. NUCLEAR'\n",
      " 'DISEÑO INDUSTRIAL' 'ANTROPOLOGIA' 'PROF. E. M. y S. EN FISICA'\n",
      " 'DIS. DE IMAGEN Y SONIDO' 'TRADUCTOR PUBLICO' 'ARTE' 'ACTUARIO'\n",
      " 'PROF. E. M. y S. EN QUIMICA' 'SISTEMAS DE INFORMACION'\n",
      " 'TERAPIA OCUPACIONAL' 'CIENCIAS DE LA EDUCACION' 'TECNICO PARA BIOTERIOS'\n",
      " 'ECONOMIA Y ADMIN.AGRARIAS' 'GEOGRAFIA' 'SOCIOLOGIA'\n",
      " 'PROD.VEGETAL ORGANICA' 'PROF. E. M. y S. EN GEOLOGIA' 'EDICION'\n",
      " 'MUSICOTERAPIA' 'TECNICO EN BIOTERIO' 'PRODUCCION DE BIOIMAGENES'\n",
      " 'CALIGRAFO PUBLICO' 'JARDINERIA' 'TRABAJO SOCIAL' 'BIBLIOTECOLOGIA'\n",
      " 'DISEÑO DEL PAISAJE' 'TEC.EN CONST.NAVALES' 'TEC.ADMIN.Y GESTION UNIV'\n",
      " 'TEC. EN TURISMO RURAL' 'TEC. EN INSTRUMENTACION QUIRURGICA'\n",
      " 'TEC. EN PRACTICAS CARDIOLOGICAS' 'TEC. EN HEMOTERAPIA'\n",
      " 'TEC. EN PODOLOGIA' 'TEC. EN COSMETOLOGIA' 'MARTILLERO'\n",
      " 'TEC. EN ANESTESIA']\n"
     ]
    }
   ],
   "source": [
    "# Para los registros con símbolos extraños uso el contenido del array carreras\n",
    "# En los demás busco por string para que quede más claro el reemplazo.\n",
    "\n",
    "df.loc[df[\"Carrera\"] == 'INGENIERIA NAVAL Y MECAN.', \"Carrera\"] = 'INGENIERIA NAVAL'\n",
    "df.loc[df[\"Carrera\"] == 'PROF.E.M.S EN BIOLOGIA', \"Carrera\"] = 'PROF. E. M. y S. EN BIOLOGIA'\n",
    "df.loc[df[\"Carrera\"] == 'CS DE LA COMPUTACION', \"Carrera\"] = 'CIENCIAS DE LA COMPUTACION'\n",
    "df.loc[df[\"Carrera\"] == 'LIC. EN OCEANOGRAFIA', \"Carrera\"] = 'OCEANOGRAFIA'\n",
    "df.loc[df[\"Carrera\"] == 'CS DE LA ATMOSFERA', \"Carrera\"] = 'CIENCIAS DE LA ATMOSFERA'\n",
    "df.loc[df[\"Carrera\"] == 'CS DE LA COMUNICACION', \"Carrera\"] = 'CIENCIAS DE LA COMUNICACION'\n",
    "df.loc[df[\"Carrera\"] == 'PROF.E.M.S.EN MATEMATICA', \"Carrera\"] = 'PROF. E. M. y S. EN MATEMATICA'\n",
    "df.loc[df[\"Carrera\"] == carreras[38], \"Carrera\"] = \"DISEÑO GRAFICO\"\n",
    "df.loc[df[\"Carrera\"] == 'B.U.EN CS DE LA ATMOSFERA', \"Carrera\"] = 'CIENCIAS DE LA ATMOSFERA'\n",
    "df.loc[df[\"Carrera\"] == 'PROF.E.M.S.EN COMPUTACION', \"Carrera\"] = 'PROF. E. M. y S. EN COMPUTACION'\n",
    "df.loc[df[\"Carrera\"] == 'LIC.EN CS. AMBIENTALES', \"Carrera\"] = 'CIENCIAS AMBIENTALES'\n",
    "df.loc[df[\"Carrera\"] == carreras[54], \"Carrera\"] = \"DISEÑO INDUSTRIAL\"\n",
    "df.loc[df[\"Carrera\"] == 'PROF.E.M.S.EN FISICA', \"Carrera\"] = 'PROF. E. M. y S. EN FISICA'\n",
    "df.loc[df[\"Carrera\"] == 'PROF.E.M.S.EN QUIMICA', \"Carrera\"] = 'PROF. E. M. y S. EN QUIMICA'\n",
    "df.loc[df[\"Carrera\"] == 'ACTURIO EN ECONOMIA', \"Carrera\"] = 'ACTUARIO'\n",
    "df.loc[df[\"Carrera\"] == 'PROF.E.M.S.EN GEOLOGIA', \"Carrera\"] = 'PROF. E. M. y S. EN GEOLOGIA'\n",
    "df.loc[df[\"Carrera\"] == 'sin definir', \"Carrera\"] = np.nan\n",
    "df.loc[df[\"Carrera\"] == 'Medicina', \"Carrera\"] = 'MEDICINA'\n",
    "df.loc[df[\"Carrera\"] == carreras[76], \"Carrera\"] = 'PROF. E. M. y S. EN MATEMATICA'\n",
    "df.loc[df[\"Carrera\"] == carreras[77], \"Carrera\"] = 'CIENCIAS AMBIENTALES'\n",
    "df.loc[df[\"Carrera\"] == 'Musicoterapia', \"Carrera\"] = 'MUSICOTERAPIA'\n",
    "df.loc[df[\"Carrera\"] == carreras[79], \"Carrera\"] = 'TECNICO RADIOLOGO UNIVERS'\n",
    "df.loc[df[\"Carrera\"] == 'TEC.PROD.VEGETAL ORGANICA', \"Carrera\"] = 'PROD.VEGETAL ORGANICA'\n",
    "df.loc[df[\"Carrera\"] == carreras[81], \"Carrera\"] = 'PROF. E. M. y S. EN BIOLOGIA'\n",
    "df.loc[df[\"Carrera\"] == carreras[84], \"Carrera\"] = 'PROF. E. M. y S. EN COMPUTACION'\n",
    "df.loc[df[\"Carrera\"] == 'LIC. EN ENFERMERIA', \"Carrera\"] = 'ENFERMERIA'\n",
    "df.loc[df[\"Carrera\"] == carreras[86], \"Carrera\"] = 'PRODUCCION DE BIOIMAGENES'\n",
    "df.loc[df[\"Carrera\"] == carreras[87], \"Carrera\"] = 'TEC.UNIV.EN MED. NUCLEAR'\n",
    "df.loc[df[\"Carrera\"] == carreras[90], \"Carrera\"] = 'PROF. E. M. y S. EN FISICA'\n",
    "df.loc[df[\"Carrera\"] == 'ciencias ambientales', \"Carrera\"] = 'CIENCIAS AMBIENTALES'\n",
    "df.loc[df[\"Carrera\"] == carreras[93], \"Carrera\"] = 'PROF. E. M. y S. EN QUIMICA'\n",
    "df.loc[df[\"Carrera\"] == carreras[95], \"Carrera\"] = 'DISEÑO DEL PAISAJE'\n",
    "df.loc[df[\"Carrera\"] == carreras[96], \"Carrera\"] = 'PROF. E. M. y S. EN GEOLOGIA'\n",
    "df.loc[df[\"Carrera\"] == 'no definida', \"Carrera\"] = np.nan\n",
    "df.loc[df[\"Carrera\"] == 'no determinada', \"Carrera\"] = np.nan\n",
    "df.loc[df[\"Carrera\"] == carreras[101], \"Carrera\"] = 'TEC. EN TURISMO RURAL'\n",
    "df.loc[df[\"Carrera\"] == 'TECNICO EN EDICION', \"Carrera\"] = 'EDICION'\n",
    "df.loc[df[\"Carrera\"] == carreras[103], \"Carrera\"] = 'PROF. E. M. y S. EN BIOLOGIA'\n",
    "df.loc[df[\"Carrera\"] == carreras[104], \"Carrera\"] = 'TEC. EN INSTRUMENTACION QUIRURGICA'\n",
    "df.loc[df[\"Carrera\"] == carreras[105], \"Carrera\"] = 'TEC. EN PRACTICAS CARDIOLOGICAS'\n",
    "df.loc[df[\"Carrera\"] == carreras[106], \"Carrera\"] = 'TEC. EN HEMOTERAPIA'\n",
    "df.loc[df[\"Carrera\"] == carreras[107], \"Carrera\"] = 'TEC. EN PODOLOGIA'\n",
    "df.loc[df[\"Carrera\"] == carreras[108], \"Carrera\"] = np.nan\n",
    "df.loc[df[\"Carrera\"] == 'indefinida', \"Carrera\"] = np.nan\n",
    "df.loc[df[\"Carrera\"] == carreras[110], \"Carrera\"] = 'TEC. EN COSMETOLOGIA'\n",
    "df.loc[df[\"Carrera\"] == 'Matillero', \"Carrera\"] = 'MARTILLERO'\n",
    "df.loc[df[\"Carrera\"] == carreras[112], \"Carrera\"] = 'TEC. EN ANESTESIA'\n",
    "df.loc[df[\"Carrera\"] == 'nueva', \"Carrera\"] = np.nan\n",
    "carreras = df['Carrera'].unique()\n",
    "print(carreras)"
   ]
  },
  {
   "cell_type": "code",
   "execution_count": 59,
   "id": "45291377-61dd-4614-a75a-31f8f6fac3a3",
   "metadata": {},
   "outputs": [
    {
     "data": {
      "text/html": [
       "<div>\n",
       "<style scoped>\n",
       "    .dataframe tbody tr th:only-of-type {\n",
       "        vertical-align: middle;\n",
       "    }\n",
       "\n",
       "    .dataframe tbody tr th {\n",
       "        vertical-align: top;\n",
       "    }\n",
       "\n",
       "    .dataframe thead th {\n",
       "        text-align: right;\n",
       "    }\n",
       "</style>\n",
       "<table border=\"1\" class=\"dataframe\">\n",
       "  <thead>\n",
       "    <tr style=\"text-align: right;\">\n",
       "      <th></th>\n",
       "      <th>codCarrera</th>\n",
       "      <th>Carrera</th>\n",
       "      <th>count</th>\n",
       "    </tr>\n",
       "  </thead>\n",
       "  <tbody>\n",
       "    <tr>\n",
       "      <th>0</th>\n",
       "      <td>39.0</td>\n",
       "      <td>MEDICINA</td>\n",
       "      <td>58000</td>\n",
       "    </tr>\n",
       "    <tr>\n",
       "      <th>1</th>\n",
       "      <td>45.0</td>\n",
       "      <td>VETERINARIA</td>\n",
       "      <td>11248</td>\n",
       "    </tr>\n",
       "    <tr>\n",
       "      <th>2</th>\n",
       "      <td>40.0</td>\n",
       "      <td>NUTRICIONISTA DIETISTA</td>\n",
       "      <td>8817</td>\n",
       "    </tr>\n",
       "    <tr>\n",
       "      <th>3</th>\n",
       "      <td>33.0</td>\n",
       "      <td>KINESIOLOGIA</td>\n",
       "      <td>7595</td>\n",
       "    </tr>\n",
       "    <tr>\n",
       "      <th>4</th>\n",
       "      <td>90.0</td>\n",
       "      <td>INGENIERIA INFORMATICA</td>\n",
       "      <td>7133</td>\n",
       "    </tr>\n",
       "  </tbody>\n",
       "</table>\n",
       "</div>"
      ],
      "text/plain": [
       "   codCarrera                 Carrera  count\n",
       "0        39.0                MEDICINA  58000\n",
       "1        45.0             VETERINARIA  11248\n",
       "2        40.0  NUTRICIONISTA DIETISTA   8817\n",
       "3        33.0            KINESIOLOGIA   7595\n",
       "4        90.0  INGENIERIA INFORMATICA   7133"
      ]
     },
     "execution_count": 59,
     "metadata": {},
     "output_type": "execute_result"
    }
   ],
   "source": [
    "###############################################\n",
    "#\n",
    "# Arreglar códigos de carrera.\n",
    "#\n",
    "###############################################\n",
    "\n",
    "codigos = df[['codCarrera', 'Carrera']].value_counts().reset_index(name='count')\n",
    "codigos.head()"
   ]
  },
  {
   "cell_type": "code",
   "execution_count": 60,
   "id": "d50ba6b5-b96f-4a2d-adb0-9f96f50ed900",
   "metadata": {},
   "outputs": [
    {
     "data": {
      "text/html": [
       "<div>\n",
       "<style scoped>\n",
       "    .dataframe tbody tr th:only-of-type {\n",
       "        vertical-align: middle;\n",
       "    }\n",
       "\n",
       "    .dataframe tbody tr th {\n",
       "        vertical-align: top;\n",
       "    }\n",
       "\n",
       "    .dataframe thead th {\n",
       "        text-align: right;\n",
       "    }\n",
       "</style>\n",
       "<table border=\"1\" class=\"dataframe\">\n",
       "  <thead>\n",
       "    <tr style=\"text-align: right;\">\n",
       "      <th></th>\n",
       "      <th>index</th>\n",
       "      <th>count</th>\n",
       "    </tr>\n",
       "  </thead>\n",
       "  <tbody>\n",
       "  </tbody>\n",
       "</table>\n",
       "</div>"
      ],
      "text/plain": [
       "Empty DataFrame\n",
       "Columns: [index, count]\n",
       "Index: []"
      ]
     },
     "execution_count": 60,
     "metadata": {},
     "output_type": "execute_result"
    }
   ],
   "source": [
    "# Reviso si se repite algún código.\n",
    "codigos_ = codigos['codCarrera'].value_counts().reset_index(name='count')\n",
    "codigos_[codigos_['count'] > 1]"
   ]
  },
  {
   "cell_type": "code",
   "execution_count": 61,
   "id": "f60f2753-fa23-4d2a-b0c5-90881132ba1d",
   "metadata": {},
   "outputs": [
    {
     "data": {
      "text/html": [
       "<div>\n",
       "<style scoped>\n",
       "    .dataframe tbody tr th:only-of-type {\n",
       "        vertical-align: middle;\n",
       "    }\n",
       "\n",
       "    .dataframe tbody tr th {\n",
       "        vertical-align: top;\n",
       "    }\n",
       "\n",
       "    .dataframe thead th {\n",
       "        text-align: right;\n",
       "    }\n",
       "</style>\n",
       "<table border=\"1\" class=\"dataframe\">\n",
       "  <thead>\n",
       "    <tr style=\"text-align: right;\">\n",
       "      <th></th>\n",
       "      <th>index</th>\n",
       "      <th>count</th>\n",
       "    </tr>\n",
       "  </thead>\n",
       "  <tbody>\n",
       "    <tr>\n",
       "      <th>0</th>\n",
       "      <td>CIENCIAS DE LA ATMOSFERA</td>\n",
       "      <td>2</td>\n",
       "    </tr>\n",
       "    <tr>\n",
       "      <th>1</th>\n",
       "      <td>ACTUARIO</td>\n",
       "      <td>2</td>\n",
       "    </tr>\n",
       "    <tr>\n",
       "      <th>2</th>\n",
       "      <td>PROF. E. M. y S. EN BIOLOGIA</td>\n",
       "      <td>2</td>\n",
       "    </tr>\n",
       "    <tr>\n",
       "      <th>3</th>\n",
       "      <td>ENFERMERIA</td>\n",
       "      <td>2</td>\n",
       "    </tr>\n",
       "    <tr>\n",
       "      <th>4</th>\n",
       "      <td>MUSICOTERAPIA</td>\n",
       "      <td>2</td>\n",
       "    </tr>\n",
       "  </tbody>\n",
       "</table>\n",
       "</div>"
      ],
      "text/plain": [
       "                          index  count\n",
       "0      CIENCIAS DE LA ATMOSFERA      2\n",
       "1                      ACTUARIO      2\n",
       "2  PROF. E. M. y S. EN BIOLOGIA      2\n",
       "3                    ENFERMERIA      2\n",
       "4                 MUSICOTERAPIA      2"
      ]
     },
     "execution_count": 61,
     "metadata": {},
     "output_type": "execute_result"
    }
   ],
   "source": [
    "# Reviso si se repite alguna carrera.\n",
    "codigos_ = codigos['Carrera'].value_counts().reset_index(name='count')\n",
    "codigos_[codigos_['count'] > 1]"
   ]
  },
  {
   "cell_type": "code",
   "execution_count": 62,
   "id": "e9ca2ba3-59a3-444f-9b47-5ce04762f1de",
   "metadata": {},
   "outputs": [],
   "source": [
    "# Modifico esos códigos para que cada carrera tenga un solo código.\n",
    "\n",
    "df.loc[df[\"Carrera\"] == 'CIENCIAS DE LA ATMOSFERA', \"codCarrera\"] = 17\n",
    "df.loc[df[\"Carrera\"] == 'ACTUARIO', \"codCarrera\"] = 2\n",
    "df.loc[df[\"Carrera\"] == 'PROF. E. M. y S. EN BIOLOGIA', \"codCarrera\"] = 124\n",
    "df.loc[df[\"Carrera\"] == 'ENFERMERIA', \"codCarrera\"] = 47\n",
    "df.loc[df[\"Carrera\"] == 'MUSICOTERAPIA', \"codCarrera\"] = 98"
   ]
  },
  {
   "cell_type": "code",
   "execution_count": 63,
   "id": "d3b1575d-971b-4c52-8100-457f3bef7f5b",
   "metadata": {},
   "outputs": [
    {
     "data": {
      "text/html": [
       "<div>\n",
       "<style scoped>\n",
       "    .dataframe tbody tr th:only-of-type {\n",
       "        vertical-align: middle;\n",
       "    }\n",
       "\n",
       "    .dataframe tbody tr th {\n",
       "        vertical-align: top;\n",
       "    }\n",
       "\n",
       "    .dataframe thead th {\n",
       "        text-align: right;\n",
       "    }\n",
       "</style>\n",
       "<table border=\"1\" class=\"dataframe\">\n",
       "  <thead>\n",
       "    <tr style=\"text-align: right;\">\n",
       "      <th></th>\n",
       "      <th>anio</th>\n",
       "      <th>cuat</th>\n",
       "      <th>codCarrera</th>\n",
       "      <th>Carrera</th>\n",
       "      <th>facultad</th>\n",
       "    </tr>\n",
       "  </thead>\n",
       "  <tbody>\n",
       "    <tr>\n",
       "      <th>33800</th>\n",
       "      <td>2012</td>\n",
       "      <td>2</td>\n",
       "      <td>0.0</td>\n",
       "      <td>NaN</td>\n",
       "      <td>NaN</td>\n",
       "    </tr>\n",
       "  </tbody>\n",
       "</table>\n",
       "</div>"
      ],
      "text/plain": [
       "       anio  cuat  codCarrera Carrera facultad\n",
       "33800  2012     2         0.0     NaN      NaN"
      ]
     },
     "execution_count": 63,
     "metadata": {},
     "output_type": "execute_result"
    }
   ],
   "source": [
    "# Aparece el código 0, seguro es un error\n",
    "df.loc[df[\"codCarrera\"] == 0, ['anio', 'cuat', 'codCarrera', 'Carrera', 'facultad']]"
   ]
  },
  {
   "cell_type": "code",
   "execution_count": 64,
   "id": "87cde6d1-18a8-4c7a-b09e-3f0e740a797e",
   "metadata": {},
   "outputs": [],
   "source": [
    "# Hay un solo registro con codigo 0, no hay información de carrera ni facultad, lo elimino.\n",
    "df = df.loc[df[\"codCarrera\"] != 0]"
   ]
  },
  {
   "cell_type": "code",
   "execution_count": 65,
   "id": "9b9ae5b3-2fcb-4e22-8586-f22355a4cd4e",
   "metadata": {},
   "outputs": [
    {
     "name": "stdout",
     "output_type": "stream",
     "text": [
      "      anio  cuat  codCarrera Carrera facultad\n",
      "1130  2011     1         NaN     NaN      NaN\n",
      "1220  2011     1         NaN     NaN      NaN\n",
      "1281  2011     1         NaN     NaN      NaN\n",
      "3548  2011     1         NaN     NaN      NaN\n",
      "7450  2011     1         NaN     NaN      NaN\n",
      "Total: 73\n"
     ]
    }
   ],
   "source": [
    "# Reviso si hay registros sin información alguna sobre la carrera o facultad:\n",
    "mask = df[\"codCarrera\"].isna() & df[\"Carrera\"].isna() & df[\"facultad\"].isna()\n",
    "df_ = df[mask]\n",
    "print(df_[['anio', 'cuat', 'codCarrera', 'Carrera', 'facultad']].head())\n",
    "print('Total:',len(df_))"
   ]
  },
  {
   "cell_type": "code",
   "execution_count": 66,
   "id": "6966a677-0071-432e-b25f-78bf457ef49a",
   "metadata": {},
   "outputs": [],
   "source": [
    "# Hay solo 73 registros sin información sobre la carrera ni la facultad, los elimino.\n",
    "df = df[~mask]"
   ]
  },
  {
   "cell_type": "code",
   "execution_count": 67,
   "id": "614caf79-f6fa-4534-8b95-77f3331b64bb",
   "metadata": {},
   "outputs": [],
   "source": [
    "# Creo nuevamente la lista de códigos:\n",
    "codigos = df[['codCarrera', 'Carrera']].value_counts().reset_index(name='count')"
   ]
  },
  {
   "cell_type": "code",
   "execution_count": 68,
   "id": "e7ec1fc9-09d9-4103-b0cc-357203627bbb",
   "metadata": {},
   "outputs": [
    {
     "name": "stdout",
     "output_type": "stream",
     "text": [
      "49089 registros con código pero sin carrera\n",
      "[ 48.  70.  99. 135. 136. 137. 138. 140. 999.]\n"
     ]
    }
   ],
   "source": [
    "###############################################\n",
    "#\n",
    "# Completar carreras y facultades faltantes.\n",
    "#\n",
    "###############################################\n",
    "\n",
    "# Veamos el código de los que no tienen carrera.\n",
    "mask = df[\"Carrera\"].isna()\n",
    "print(len(df[mask]['codCarrera']), 'registros con código pero sin carrera')\n",
    "corregir = df[mask]['codCarrera'].unique()\n",
    "print(np.sort(corregir))"
   ]
  },
  {
   "cell_type": "code",
   "execution_count": 69,
   "id": "52f42293-ac15-45e1-82e0-0d1a74174736",
   "metadata": {},
   "outputs": [
    {
     "name": "stdout",
     "output_type": "stream",
     "text": [
      "codCarrera =  99.0 Cantidad =  16190 facultad =  [nan] Carrera =  [nan]\n",
      "codCarrera =  135.0 Cantidad =  230 facultad =  [nan] Carrera =  [nan]\n",
      "codCarrera =  999.0 Cantidad =  32579 facultad =  [nan] Carrera =  [nan]\n",
      "codCarrera =  140.0 Cantidad =  70 facultad =  [nan] Carrera =  [nan]\n",
      "codCarrera =  137.0 Cantidad =  14 facultad =  [nan] Carrera =  [nan]\n",
      "codCarrera =  138.0 Cantidad =  3 facultad =  [nan] Carrera =  [nan]\n",
      "codCarrera =  48.0 Cantidad =  1 facultad =  [nan] Carrera =  [nan]\n",
      "codCarrera =  136.0 Cantidad =  1 facultad =  [nan] Carrera =  [nan]\n"
     ]
    }
   ],
   "source": [
    "# ¿Alguno de esos códigos no tiene una carrera asignada?\n",
    "for corre in corregir:\n",
    "    if len(codigos[codigos['codCarrera'] == corre]) == 0:\n",
    "        print('codCarrera = ', corre, 'Cantidad = ', len(df[df['codCarrera'] == corre]),\n",
    "              'facultad = ', df[df['codCarrera'] == corre]['facultad'].unique(),\n",
    "              'Carrera = ', df[df['codCarrera'] == corre]['Carrera'].unique())"
   ]
  },
  {
   "attachments": {},
   "cell_type": "markdown",
   "id": "720ab13b-b73a-41d9-a460-f452ba8f8717",
   "metadata": {},
   "source": [
    "Ya existían registros con una carrera asociada:  \n",
    "70  : Tec. Univ. en Hemoterapia e Inmunohematología  , Medicina \n",
    "\n",
    "No tenían carrera ni facultad asociada, de la página del CBC:  \n",
    "135 : Ingeniería en Petróleo , Ingeniería  \n",
    "136 : Prof. E. M. y S. en Filosofía , Filosofía y Letras  \n",
    "137 : Lic. en Gestion de Agroalimentos , Ciencias Veterinarias  \n",
    "138 : Diseño de indumentaria , Arquitectura Diseño y Urbanismo  \n",
    "140 : Lic. en Ciencia y Tecnología de Alimentos , Ciencias Exactas y Naturales  \n",
    "  \n",
    "Códigos que no existen:  \n",
    "48  : un solo registro, se elimina.  \n",
    "99  : hay que imputar  \n",
    "999 : hay que imputar  "
   ]
  },
  {
   "cell_type": "code",
   "execution_count": 70,
   "id": "da720665-b0e9-480f-bfba-036bac7a8299",
   "metadata": {},
   "outputs": [],
   "source": [
    "# codCarrera 48 no existe y hay un solo registro, lo elimino\n",
    "df = df.loc[df[\"codCarrera\"] != 48]\n",
    "\n",
    "# Corrijo carrera y facultad de algunos códigos\n",
    "df.loc[df[\"codCarrera\"] == 70, \"Carrera\"] = 'TEC. EN HEMOTERAPIA'\n",
    "df.loc[df[\"codCarrera\"] == 70, \"facultad\"] = 'MEDICINA'\n",
    "df.loc[df[\"codCarrera\"] == 135, \"Carrera\"] = 'INGENIERIA EN PETROLEO'\n",
    "df.loc[df[\"codCarrera\"] == 135, \"facultad\"] = 'INGENIERIA'\n",
    "df.loc[df[\"codCarrera\"] == 136, \"Carrera\"] = 'PROF. E. M. Y S. EN FILOSOFIA'\n",
    "df.loc[df[\"codCarrera\"] == 136, \"facultad\"] = 'FILOSOFIA Y LETRAS'\n",
    "df.loc[df[\"codCarrera\"] == 137, \"Carrera\"] = 'LIC. EN GESTION DE AGROALIMENTOS'\n",
    "df.loc[df[\"codCarrera\"] == 137, \"facultad\"] = 'CIENCIAS VETERINARIAS'\n",
    "df.loc[df[\"codCarrera\"] == 138, \"Carrera\"] = 'DISEÑO DE INDUMENTARIA'\n",
    "df.loc[df[\"codCarrera\"] == 138, \"facultad\"] = 'ARQUITECTURA Y URBANISMO'\n",
    "df.loc[df[\"codCarrera\"] == 140, \"Carrera\"] = 'TECNOLOGIA DE ALIMENTOS'\n",
    "df.loc[df[\"codCarrera\"] == 140, \"facultad\"] = 'CS EXACTAS Y NATURALES'"
   ]
  },
  {
   "cell_type": "code",
   "execution_count": 71,
   "id": "26fbacff-8c3e-4a37-8b0a-93970d83407b",
   "metadata": {},
   "outputs": [],
   "source": [
    "# Creo nuevamente la lista de códigos (de los que tienen alguna carrera asociada):\n",
    "codigos = df[['codCarrera', 'Carrera']].value_counts().reset_index(name='count')"
   ]
  },
  {
   "cell_type": "code",
   "execution_count": 72,
   "id": "50703ccb-1fc8-4a25-bbd3-9eb186731630",
   "metadata": {},
   "outputs": [
    {
     "name": "stdout",
     "output_type": "stream",
     "text": [
      "nan 0\n",
      "TECNICO PARA BIOTERIOS 4\n"
     ]
    }
   ],
   "source": [
    "# Reviso si hay alguna carrera sin código.\n",
    "for carrera in carreras:\n",
    "    if len(codigos.loc[codigos['Carrera'] == carrera, 'codCarrera']) == 0:\n",
    "        print(carrera, len(df.loc[df[\"Carrera\"] == carrera]))"
   ]
  },
  {
   "cell_type": "code",
   "execution_count": 73,
   "id": "69d176b5-8838-4b2a-a575-33bf40e9081c",
   "metadata": {},
   "outputs": [],
   "source": [
    "# Corrijo los registros de esa carrera sin código.\n",
    "df.loc[df[\"Carrera\"] == 'TECNICO PARA BIOTERIOS', \"Carrera\"] = 'TECNICO EN BIOTERIO'\n",
    "df.loc[df[\"Carrera\"] == 'TECNICO EN BIOTERIO', \"codCarrera\"] = 78\n",
    "df.loc[df[\"Carrera\"] == 'TECNICO EN BIOTERIO', \"facultad\"] = 'CIENCIAS VETERINARIAS'"
   ]
  },
  {
   "cell_type": "code",
   "execution_count": 74,
   "id": "bd12782f-e930-47c2-9f8e-137bf22bc8dd",
   "metadata": {},
   "outputs": [
    {
     "data": {
      "text/plain": [
       "15729"
      ]
     },
     "execution_count": 74,
     "metadata": {},
     "output_type": "execute_result"
    }
   ],
   "source": [
    "# Todavía hay registros sin código pero con carrera.\n",
    "corregir = df.loc[df['codCarrera'].isna()]['Carrera']\n",
    "len(corregir)"
   ]
  },
  {
   "cell_type": "code",
   "execution_count": 75,
   "id": "c9e1638a-c9f5-4fa3-aedb-9b9ee0b43a11",
   "metadata": {},
   "outputs": [],
   "source": [
    "corregir = corregir.unique()\n",
    "for carrera in corregir:\n",
    "    df.loc[df[\"Carrera\"] == carrera, \"codCarrera\"] = codigos.loc[codigos['Carrera'] == carrera]['codCarrera'].values[0]"
   ]
  },
  {
   "cell_type": "code",
   "execution_count": 76,
   "id": "7a434df0-9856-43c9-8069-d8acb8df4d8b",
   "metadata": {},
   "outputs": [
    {
     "data": {
      "text/plain": [
       "0"
      ]
     },
     "execution_count": 76,
     "metadata": {},
     "output_type": "execute_result"
    }
   ],
   "source": [
    "# En este punto, todos los registros tienen un código de carrera.\n",
    "len(df.loc[df['codCarrera'].isna()]['Carrera'])"
   ]
  },
  {
   "cell_type": "code",
   "execution_count": 77,
   "id": "0984d60e-3f98-4b26-b8df-c4950f15c7d0",
   "metadata": {},
   "outputs": [
    {
     "data": {
      "text/plain": [
       "array([ 99., 999.])"
      ]
     },
     "execution_count": 77,
     "metadata": {},
     "output_type": "execute_result"
    }
   ],
   "source": [
    "# Los únicos que no tienen carrera son los códigos 99 y 999.\n",
    "df.loc[df['Carrera'].isna()]['codCarrera'].unique()"
   ]
  },
  {
   "cell_type": "code",
   "execution_count": 78,
   "id": "e04406c7-5244-48d9-ab0d-1fa031948d0c",
   "metadata": {},
   "outputs": [
    {
     "name": "stdout",
     "output_type": "stream",
     "text": [
      "[ 26.  29.  28.  39.  90.  31.  30.  32.  27.  34. 124.  40.  67.  87.\n",
      "  79.  46.  36.  21.  95.  20. 129.  42.  24.  50.  56.  45. 126.  33.\n",
      "  22.  41.  97.  65.  47.  37.  61.  51. 127.  44. 130.  58.  88.  91.\n",
      "  23.  43.  96. 128.  82.  98.  66.  80.  38.  99.  69. 131.  64. 134.\n",
      " 999.]\n"
     ]
    }
   ],
   "source": [
    "# Registros con código pero sin facultad.\n",
    "corregir = df.loc[df['facultad'].isna()]['codCarrera'].unique()\n",
    "print(corregir)"
   ]
  },
  {
   "cell_type": "code",
   "execution_count": 79,
   "id": "0383f37e-c8ce-401a-b2ab-d7b56c5c9cd4",
   "metadata": {},
   "outputs": [],
   "source": [
    "# Creo nuevamente la lista de códigos (de los que tienen alguna carrera asociada):\n",
    "codigos_facultad = df[['codCarrera', 'Carrera', 'facultad']].value_counts().reset_index(name='count')"
   ]
  },
  {
   "cell_type": "code",
   "execution_count": 80,
   "id": "1f351c90-7679-4bc9-8d22-e747118f3008",
   "metadata": {},
   "outputs": [
    {
     "name": "stdout",
     "output_type": "stream",
     "text": [
      "Empty DataFrame\n",
      "Columns: [codCarrera, Carrera, count]\n",
      "Index: []\n",
      "    codCarrera                   Carrera  count\n",
      "87        69.0  TEC.ADMIN.Y GESTION UNIV      4\n",
      "    codCarrera               Carrera  count\n",
      "70       131.0  TEC. EN COSMETOLOGIA     29\n",
      "    codCarrera     Carrera  count\n",
      "91        64.0  MARTILLERO      1\n",
      "    codCarrera            Carrera  count\n",
      "61       134.0  TEC. EN ANESTESIA     46\n",
      "Empty DataFrame\n",
      "Columns: [codCarrera, Carrera, count]\n",
      "Index: []\n"
     ]
    }
   ],
   "source": [
    "# ¿Cuáles de esos códigos no tienen una facultad asociada?\n",
    "for corre in corregir:\n",
    "    if len(codigos_facultad[codigos_facultad['codCarrera'] == corre]) == 0:\n",
    "        print(codigos[codigos['codCarrera'] == corre])"
   ]
  },
  {
   "cell_type": "code",
   "execution_count": 81,
   "id": "063fcf01-6dbf-41af-aebd-c14330597135",
   "metadata": {},
   "outputs": [],
   "source": [
    "# Códigos 64 y 69 no existen, hay solo 5 registros, los elimino\n",
    "df = df.loc[df['codCarrera'] != 64]\n",
    "df = df.loc[df['codCarrera'] != 69]\n",
    "\n",
    "# Agrego las otras facultades.\n",
    "df.loc[df[\"codCarrera\"] == 131, \"facultad\"] = 'MEDICINA'\n",
    "df.loc[df[\"codCarrera\"] == 134, \"facultad\"] = 'MEDICINA'"
   ]
  },
  {
   "cell_type": "code",
   "execution_count": 82,
   "id": "9717c820-e130-4667-a5e9-24a4a8b27314",
   "metadata": {},
   "outputs": [],
   "source": [
    "# Creo nuevamente la lista de códigos (de los que tienen alguna carrera asociada):\n",
    "codigos_facultad = df[['codCarrera', 'Carrera', 'facultad']].value_counts().reset_index(name='count')"
   ]
  },
  {
   "cell_type": "code",
   "execution_count": 83,
   "id": "149581dd-7d55-4d36-aca2-c2ddc89ef92b",
   "metadata": {},
   "outputs": [],
   "source": [
    "# Completo facultad para todos los registros, excepto códigos 99 y 999\n",
    "for codigo, facultad in zip(codigos_facultad['codCarrera'], codigos_facultad['facultad']):\n",
    "    df.loc[df[\"codCarrera\"] == codigo, \"facultad\"] = facultad"
   ]
  },
  {
   "cell_type": "code",
   "execution_count": 84,
   "id": "4512cf34-1a83-42da-89ed-06767358e3ff",
   "metadata": {},
   "outputs": [
    {
     "name": "stdout",
     "output_type": "stream",
     "text": [
      "[ 99. 999.]\n",
      "[ 99. 999.]\n",
      "0\n"
     ]
    }
   ],
   "source": [
    "# Reviso estado del dataframe\n",
    "print(df.loc[df['Carrera'].isna()]['codCarrera'].unique())\n",
    "print(df.loc[df['facultad'].isna()]['codCarrera'].unique())\n",
    "print(len(df.loc[df['codCarrera'].isna()]['Carrera']))"
   ]
  },
  {
   "cell_type": "code",
   "execution_count": 85,
   "id": "1a116b3e",
   "metadata": {},
   "outputs": [
    {
     "name": "stdout",
     "output_type": "stream",
     "text": [
      "        anio  cuat  codCarrera      Carrera               facultad\n",
      "37822   2012     2        45.0  VETERINARIA  CIENCIAS VETERINARIAS\n",
      "41177   2013     1        45.0  VETERINARIA  CIENCIAS VETERINARIAS\n",
      "55245   2013     2        45.0  VETERINARIA  CIENCIAS VETERINARIAS\n",
      "65801   2014     1        45.0  VETERINARIA  CIENCIAS VETERINARIAS\n",
      "76986   2014     2        45.0  VETERINARIA  CIENCIAS VETERINARIAS\n",
      "101905  2015     2        45.0  VETERINARIA  CIENCIAS VETERINARIAS\n",
      "116139  2016     1        45.0  VETERINARIA  CIENCIAS VETERINARIAS\n",
      "(Los registros mostrados corresponden a un mismo dni,\n",
      " y es un ejemplo de un estudiante que cursó varios cuatrimestres.)\n"
     ]
    }
   ],
   "source": [
    "# Veamos algún estudiante que se repita varios cuatrimestres\n",
    "df_ = df['dni'].value_counts().reset_index(name='count')\n",
    "df_.columns = ['dni', 'count']\n",
    "df_ = df_[df_['count'] > 4]\n",
    "print(df.loc[df['dni'] == df_.iloc[100]['dni']][['anio', 'cuat', 'codCarrera', 'Carrera', 'facultad']])\n",
    "print(\"(Los registros mostrados corresponden a un mismo dni,\\n y es un ejemplo de un estudiante que cursó varios cuatrimestres.)\")"
   ]
  },
  {
   "cell_type": "code",
   "execution_count": 86,
   "id": "aecd039f",
   "metadata": {},
   "outputs": [
    {
     "name": "stdout",
     "output_type": "stream",
     "text": [
      "['INGENIERIA CIVIL' 'CIENCIAS BIOLOGICAS' 'INGENIERIA MECANICA'\n",
      " 'INGENIERIA ELECTRONICA' 'MEDICINA' 'CIENCIAS FISICAS'\n",
      " 'INGENIERIA INFORMATICA' 'ADMINISTRACION' 'CONTADOR PUBLICO'\n",
      " 'INGENIERIA NAVAL' 'INGENIERIA INDUSTRIAL' 'CIENCIAS MATEMATICAS'\n",
      " 'INGENIERIA QUIMICA' 'ANALISTA DE SISTEMAS' 'ARQUITECTURA'\n",
      " 'INGENIERIA ELECTRICISTA' 'CIENCIAS GEOLOGICAS' 'BIOQUIMICA' 'LETRAS'\n",
      " 'PROF. E. M. y S. EN BIOLOGIA' 'NUTRICIONISTA DIETISTA'\n",
      " 'CIENCIAS DE LA COMPUTACION' 'CIENCIAS QUIMICAS'\n",
      " 'INGENIERIA EN AGRIMENSURA' 'OCEANOGRAFIA' 'CIENCIAS DE LA ATMOSFERA'\n",
      " 'FLORICULTURA' 'CIENCIAS DE LA COMUNICACION' 'OBSTETRICIA' 'ECONOMIA'\n",
      " 'FILOSOFIA' 'PALEONTOLOGIA' 'FARMACIA' 'PROF. E. M. y S. EN MATEMATICA'\n",
      " 'CIENCIA POLITICA' 'PSICOLOGIA' 'HISTORIA' 'ABOGACIA' 'DISEÑO GRAFICO'\n",
      " 'AGRONOMIA' 'OPTICO TECNICO' 'VETERINARIA' 'DIS. DE IND. Y TEXTIL'\n",
      " 'PROF. E. M. y S. EN COMPUTACION' 'KINESIOLOGIA' 'FONOAUDIOLOGIA'\n",
      " 'ODONTOLOGIA' 'CIENCIAS AMBIENTALES' 'TECNICO RADIOLOGO UNIVERS'\n",
      " 'ENFERMERIA' 'RELACIONES DEL TRABAJO' 'TEC.UNIV.EN MED. NUCLEAR'\n",
      " 'DISEÑO INDUSTRIAL' 'ANTROPOLOGIA' 'PROF. E. M. y S. EN FISICA'\n",
      " 'DIS. DE IMAGEN Y SONIDO' 'TRADUCTOR PUBLICO' 'ARTE' 'ACTUARIO'\n",
      " 'PROF. E. M. y S. EN QUIMICA' 'SISTEMAS DE INFORMACION'\n",
      " 'TERAPIA OCUPACIONAL' 'CIENCIAS DE LA EDUCACION' 'TECNICO EN BIOTERIO'\n",
      " 'ECONOMIA Y ADMIN.AGRARIAS' 'GEOGRAFIA' 'SOCIOLOGIA'\n",
      " 'PROD.VEGETAL ORGANICA' 'PROF. E. M. y S. EN GEOLOGIA' 'EDICION'\n",
      " 'MUSICOTERAPIA' 'PRODUCCION DE BIOIMAGENES' 'CALIGRAFO PUBLICO'\n",
      " 'JARDINERIA' 'TRABAJO SOCIAL' 'BIBLIOTECOLOGIA' 'DISEÑO DEL PAISAJE' nan\n",
      " 'TEC.EN CONST.NAVALES' 'TEC. EN TURISMO RURAL' 'TEC. EN HEMOTERAPIA'\n",
      " 'TEC. EN INSTRUMENTACION QUIRURGICA' 'TEC. EN PRACTICAS CARDIOLOGICAS'\n",
      " 'TEC. EN PODOLOGIA' 'TEC. EN COSMETOLOGIA' 'TEC. EN ANESTESIA'\n",
      " 'INGENIERIA EN PETROLEO' 'TECNOLOGIA DE ALIMENTOS'\n",
      " 'LIC. EN GESTION DE AGROALIMENTOS' 'DISEÑO DE INDUMENTARIA'\n",
      " 'PROF. E. M. Y S. EN FILOSOFIA']\n"
     ]
    }
   ],
   "source": [
    "print(df['Carrera'].unique())"
   ]
  },
  {
   "cell_type": "code",
   "execution_count": 87,
   "id": "3ac29490",
   "metadata": {},
   "outputs": [
    {
     "name": "stdout",
     "output_type": "stream",
     "text": [
      "Cantidad de estudiantes con códigos 99 o 999:  45103\n"
     ]
    }
   ],
   "source": [
    "# Con este resultado descubro una forma de corregir algunos códigos faltantes: \n",
    "# repetir el código anterior o posterior de un estudiante que cursó más de una vez.\n",
    "\n",
    "dnis = df.loc[(df['codCarrera'] == 99) | (df['codCarrera'] == 999)]['dni'].unique()\n",
    "print(\"Cantidad de estudiantes con códigos 99 o 999: \", len(dnis))\n",
    "for dni in dnis:\n",
    "    codigo = df.loc[(df['dni'] == dni) & (df['codCarrera'] != 99) & (df['codCarrera'] != 999),'codCarrera'].values\n",
    "    if len(codigo)>0:\n",
    "        values = df.loc[(df['dni'] == dni) & (df['codCarrera'] == codigo[0]), ['codCarrera', 'Carrera', 'facultad']].values[0]\n",
    "        df.loc[(df['dni'] == dni) & ((df['codCarrera'] == 99) | (df['codCarrera'] == 999)),\n",
    "               ['codCarrera', 'Carrera', 'facultad']] = values\n",
    "    "
   ]
  },
  {
   "cell_type": "code",
   "execution_count": 88,
   "id": "24bd930b",
   "metadata": {},
   "outputs": [
    {
     "name": "stdout",
     "output_type": "stream",
     "text": [
      "Cantidad de estudiantes con códigos 99 o 999: 26709\n"
     ]
    }
   ],
   "source": [
    "# Cuántos estudiantes quedan aún con código 99 o 999:\n",
    "dnis = df.loc[(df['codCarrera'] == 99) | (df['codCarrera'] == 999)]['dni'].unique()\n",
    "print(\"Cantidad de estudiantes con códigos 99 o 999:\", len(dnis))"
   ]
  },
  {
   "cell_type": "code",
   "execution_count": 89,
   "id": "d40c7bbd",
   "metadata": {},
   "outputs": [
    {
     "name": "stdout",
     "output_type": "stream",
     "text": [
      "facultad isna(): 27761\n",
      "Valores de codCarrera en esos registros: [ 99. 999.]\n"
     ]
    }
   ],
   "source": [
    "# Aun hay registros con valores faltantes en facultad.\n",
    "print(\"facultad isna():\", len(df.loc[df['facultad'].isna()]))\n",
    "print(\"Valores de codCarrera en esos registros:\", df.loc[df['facultad'].isna(), 'codCarrera'].unique())"
   ]
  },
  {
   "cell_type": "code",
   "execution_count": 90,
   "id": "5f4438d5",
   "metadata": {},
   "outputs": [],
   "source": [
    "df.loc[df['facultad'].isna(), 'facultad'] = df.loc[df['facultad'].isna(), 'codCarrera']\n",
    "df['facultad'] = df['facultad'].astype('str')"
   ]
  },
  {
   "cell_type": "code",
   "execution_count": 91,
   "id": "976c8ee7",
   "metadata": {},
   "outputs": [
    {
     "name": "stdout",
     "output_type": "stream",
     "text": [
      "Notas de parcial 1:  [ 0.   0.5  1.   1.5  2.   2.5  3.   3.5  4.   4.5  5.   5.5  6.   6.5\n",
      "  7.   7.5  8.   8.5  9.   9.5 10.  11.  25.  26.  30.  33.  34.  35.\n",
      " 88.  98.   nan]\n",
      "Notas de parcial 2:  [ 0.   0.5  1.   1.5  2.   2.5  3.   3.5  4.   4.5  5.   5.5  6.   6.5\n",
      "  7.   7.5  7.8  8.   8.5  9.   9.5 10.  25.  26.  27.  30.  35.  40.\n",
      " 56.  88.  98.   nan]\n",
      "Notas de final:  [  0.   1.   2.   3.   4.   5.   6.   7.   8.   9.  10. 100.  nan]\n"
     ]
    }
   ],
   "source": [
    "############################################\n",
    "#\n",
    "# Corregir notas\n",
    "#\n",
    "# Hay números extraños\n",
    "#\n",
    "############################################\n",
    "\n",
    "# En las notas, el código 99 se usa para los ausentes, los cambio por NaN.\n",
    "df.loc[df['pa1'] == 99, 'pa1'] = np.nan\n",
    "df.loc[df['pa2'] == 99, 'pa2'] = np.nan\n",
    "df.loc[df['Final'] == 99, 'Final'] = np.nan\n",
    "\n",
    "notas1 = np.sort(df['pa1'].unique())\n",
    "notas2 = np.sort(df['pa2'].unique())\n",
    "notasfinal = np.sort(df['Final'].unique())\n",
    "\n",
    "print(\"Notas de parcial 1: \", notas1)\n",
    "print(\"Notas de parcial 2: \", notas2)\n",
    "print(\"Notas de final: \", notasfinal)"
   ]
  },
  {
   "cell_type": "code",
   "execution_count": 92,
   "id": "8d177c2d",
   "metadata": {},
   "outputs": [
    {
     "name": "stdout",
     "output_type": "stream",
     "text": [
      "Cantidad de notas extrañas parcial 1: 73\n",
      "Cantidad de notas extrañas parcial 2: 156\n",
      "Cantidad de notas extrañas Final    : 2\n"
     ]
    }
   ],
   "source": [
    "print(\"Cantidad de notas extrañas parcial 1:\", len(df.loc[df['pa1'] > 10]))\n",
    "print(\"Cantidad de notas extrañas parcial 2:\", len(df.loc[df['pa2'] > 10]))\n",
    "print(\"Cantidad de notas extrañas Final    :\", len(df.loc[df['Final'] > 10]))"
   ]
  },
  {
   "cell_type": "code",
   "execution_count": 93,
   "id": "27f83f54",
   "metadata": {},
   "outputs": [],
   "source": [
    "# Son pocos registros.\n",
    "# Cambio las notas extrañas según criterio arbitrario por ahora.\n",
    "df.loc[df['pa1'] == 11, 'pa1'] = 1\n",
    "df.loc[df['pa1'] == 25, 'pa1'] = 2.5\n",
    "df.loc[df['pa1'] == 26, 'pa1'] = 2\n",
    "df.loc[df['pa1'] == 30, 'pa1'] = 3\n",
    "df.loc[df['pa1'] == 33, 'pa1'] = 3\n",
    "df.loc[df['pa1'] == 34, 'pa1'] = 3\n",
    "df.loc[df['pa1'] == 35, 'pa1'] = 3.5\n",
    "df.loc[df['pa1'] == 88, 'pa1'] = 8\n",
    "df.loc[df['pa1'] == 98, 'pa1'] = 9\n",
    "\n",
    "df.loc[df['pa2'] == 25, 'pa2'] = 2.5\n",
    "df.loc[df['pa2'] == 26, 'pa2'] = 2\n",
    "df.loc[df['pa2'] == 27, 'pa2'] = 2\n",
    "df.loc[df['pa2'] == 30, 'pa2'] = 3\n",
    "df.loc[df['pa2'] == 35, 'pa2'] = 3.5\n",
    "df.loc[df['pa2'] == 40, 'pa2'] = 4\n",
    "df.loc[df['pa2'] == 56, 'pa2'] = 5\n",
    "df.loc[df['pa2'] == 88, 'pa2'] = 8\n",
    "df.loc[df['pa2'] == 98, 'pa2'] = 9\n",
    "\n",
    "# Los siguientes están ausentes en pa2\n",
    "df.loc[df['Final'] == 100, 'Final'] = np.nan"
   ]
  },
  {
   "cell_type": "code",
   "execution_count": 94,
   "id": "b6737aa8",
   "metadata": {},
   "outputs": [],
   "source": [
    "################################################\n",
    "#\n",
    "# Remanentes\n",
    "#\n",
    "# Notas de finales en 2da y 3ra instancia.\n",
    "#\n",
    "################################################\n",
    "\n",
    "dfrem = pd.read_csv(\"../datos/rems/11dic.csv\", encoding = \"ISO-8859-15\")\n",
    "for stud in dfrem.itertuples():\n",
    "    df.loc[(df['anio']==2011) & (df['cuat']==1) & (df['dni']==stud.DNI) & (df['pa1']+df['pa2']>=8) & (df['pa1']+df['pa2']<13), 'rem1'] = stud.Final\n",
    "\n",
    "dfrem = pd.read_csv(\"../datos/rems/12mar.csv\", encoding = \"ISO-8859-15\")\n",
    "for stud in dfrem.itertuples():\n",
    "    df.loc[(df['anio']==2011) & (df['cuat']==1) & (df['dni']==stud.DNI) & (df['pa1']+df['pa2']>=8) & (df['pa1']+df['pa2']<13), 'rem2'] = stud.final\n",
    "    df.loc[(df['anio']==2011) & (df['cuat']==2) & (df['dni']==stud.DNI) & (df['pa1']+df['pa2']>=8) & (df['pa1']+df['pa2']<13), 'rem1'] = stud.final\n",
    "\n",
    "dfrem = pd.read_csv(\"../datos/rems/12jul.csv\", encoding = \"ISO-8859-15\")\n",
    "for stud in dfrem.itertuples():\n",
    "    df.loc[(df['anio']==2011) & (df['cuat']==2) & (df['dni']==stud.DNI) & (df['pa1']+df['pa2']>=8) & (df['pa1']+df['pa2']<13), 'rem2'] = stud.Final    \n",
    "\n",
    "dfrem = pd.read_csv(\"../datos/rems/12dic.csv\", encoding = \"ISO-8859-15\")\n",
    "for stud in dfrem.itertuples():\n",
    "    df.loc[(df['anio']==2012) & (df['cuat']==1) & (df['dni']==stud.DNI) & (df['pa1']+df['pa2']>=8) & (df['pa1']+df['pa2']<13), 'rem1'] = stud.Final    \n",
    "\n",
    "dfrem = pd.read_csv(\"../datos/rems/13mar.csv\", encoding = \"ISO-8859-15\")\n",
    "for stud in dfrem.itertuples():\n",
    "    df.loc[(df['anio']==2012) & (df['cuat']==1) & (df['dni']==stud.DNI) & (df['pa1']+df['pa2']>=8) & (df['pa1']+df['pa2']<13), 'rem2'] = stud.final\n",
    "    df.loc[(df['anio']==2012) & (df['cuat']==2) & (df['dni']==stud.DNI) & (df['pa1']+df['pa2']>=8) & (df['pa1']+df['pa2']<13), 'rem1'] = stud.final\n",
    "\n",
    "dfrem = pd.read_csv(\"../datos/rems/13jul.csv\", encoding = \"ISO-8859-15\")\n",
    "for stud in dfrem.itertuples():\n",
    "    df.loc[(df['anio']==2012) & (df['cuat']==2) & (df['dni']==stud.DNI) & (df['pa1']+df['pa2']>=8) & (df['pa1']+df['pa2']<13), 'rem2'] = stud.final\n",
    "\n",
    "dfrem = pd.read_csv(\"../datos/rems/13dic.csv\", encoding = \"ISO-8859-15\")\n",
    "for stud in dfrem.itertuples():\n",
    "    df.loc[(df['anio']==2013) & (df['cuat']==1) & (df['dni']==stud.DNI) & (df['pa1']+df['pa2']>=8) & (df['pa1']+df['pa2']<13), 'rem1'] = stud.Final\n",
    "\n",
    "dfrem = pd.read_csv(\"../datos/rems/14mar.csv\", encoding = \"ISO-8859-15\")\n",
    "for stud in dfrem.itertuples():\n",
    "    df.loc[(df['anio']==2013) & (df['cuat']==1) & (df['dni']==stud.DNI) & (df['pa1']+df['pa2']>=8) & (df['pa1']+df['pa2']<13), 'rem2'] = stud.final\n",
    "    df.loc[(df['anio']==2013) & (df['cuat']==2) & (df['dni']==stud.DNI) & (df['pa1']+df['pa2']>=8) & (df['pa1']+df['pa2']<13), 'rem1'] = stud.final\n",
    "\n",
    "dfrem = pd.read_csv(\"../datos/rems/14jul.csv\", encoding = \"ISO-8859-15\")\n",
    "for stud in dfrem.itertuples():\n",
    "    df.loc[(df['anio']==2013) & (df['cuat']==2) & (df['dni']==stud.DNI) & (df['pa1']+df['pa2']>=8) & (df['pa1']+df['pa2']<13), 'rem2'] = stud.final\n",
    "\n",
    "dfrem = pd.read_csv(\"../datos/rems/14dic.csv\", encoding = \"ISO-8859-15\")\n",
    "for stud in dfrem.itertuples():\n",
    "    df.loc[(df['anio']==2014) & (df['cuat']==1) & (df['dni']==stud.DNI) & (df['pa1']+df['pa2']>=8) & (df['pa1']+df['pa2']<13), 'rem1'] = stud.Final\n",
    "\n",
    "dfrem = pd.read_csv(\"../datos/rems/15mar.csv\", encoding = \"ISO-8859-15\")\n",
    "for stud in dfrem.itertuples():\n",
    "    df.loc[(df['anio']==2014) & (df['cuat']==1) & (df['dni']==stud.DNI) & (df['pa1']+df['pa2']>=8) & (df['pa1']+df['pa2']<13), 'rem2'] = stud.Final\n",
    "    df.loc[(df['anio']==2014) & (df['cuat']==2) & (df['dni']==stud.DNI) & (df['pa1']+df['pa2']>=8) & (df['pa1']+df['pa2']<13), 'rem1'] = stud.Final\n",
    "\n",
    "dfrem = pd.read_csv(\"../datos/rems/15jul.csv\", encoding = \"ISO-8859-15\")\n",
    "for stud in dfrem.itertuples():\n",
    "    df.loc[(df['anio']==2014) & (df['cuat']==2) & (df['dni']==stud.DNI) & (df['pa1']+df['pa2']>=8) & (df['pa1']+df['pa2']<13), 'rem2'] = stud.final\n",
    "\n",
    "dfrem = pd.read_csv(\"../datos/rems/15dic.csv\", encoding = \"ISO-8859-15\")\n",
    "for stud in dfrem.itertuples():\n",
    "    df.loc[(df['anio']==2015) & (df['cuat']==1) & (df['dni']==stud.DNI) & (df['pa1']+df['pa2']>=8) & (df['pa1']+df['pa2']<13), 'rem1'] = stud.final\n",
    "\n",
    "dfrem = pd.read_csv(\"../datos/rems/16mar.csv\", encoding = \"ISO-8859-15\")\n",
    "for stud in dfrem.itertuples():\n",
    "    df.loc[(df['anio']==2015) & (df['cuat']==1) & (df['dni']==stud.DNI) & (df['pa1']+df['pa2']>=8) & (df['pa1']+df['pa2']<13), 'rem2'] = stud.final\n",
    "    df.loc[(df['anio']==2015) & (df['cuat']==2) & (df['dni']==stud.DNI) & (df['pa1']+df['pa2']>=8) & (df['pa1']+df['pa2']<13), 'rem1'] = stud.final\n",
    "\n",
    "dfrem = pd.read_csv(\"../datos/rems/16jul.csv\", encoding = \"ISO-8859-15\")\n",
    "for stud in dfrem.itertuples():\n",
    "    df.loc[(df['anio']==2015) & (df['cuat']==2) & (df['dni']==stud.DNI) & (df['pa1']+df['pa2']>=8) & (df['pa1']+df['pa2']<13), 'rem2'] = stud.final\n",
    "\n",
    "dfrem = pd.read_csv(\"../datos/rems/16dic.csv\", encoding = \"ISO-8859-15\")\n",
    "for stud in dfrem.itertuples():\n",
    "    df.loc[(df['anio']==2016) & (df['cuat']==1) & (df['dni']==stud.DNI) & (df['pa1']+df['pa2']>=8) & (df['pa1']+df['pa2']<13), 'rem1'] = stud.final\n",
    "\n",
    "dfrem = pd.read_csv(\"../datos/rems/17mar.csv\", encoding = \"ISO-8859-15\")\n",
    "for stud in dfrem.itertuples():\n",
    "    df.loc[(df['anio']==2016) & (df['cuat']==1) & (df['dni']==stud.dni) & (df['pa1']+df['pa2']>=8) & (df['pa1']+df['pa2']<13), 'rem2'] = stud.final\n",
    "    df.loc[(df['anio']==2016) & (df['cuat']==2) & (df['dni']==stud.dni) & (df['pa1']+df['pa2']>=8) & (df['pa1']+df['pa2']<13), 'rem1'] = stud.final\n",
    "\n",
    "dfrem = pd.read_csv(\"../datos/rems/17jul.csv\", encoding = \"ISO-8859-15\")\n",
    "for stud in dfrem.itertuples():\n",
    "    df.loc[(df['anio']==2016) & (df['cuat']==2) & (df['dni']==stud.dni) & (df['pa1']+df['pa2']>=8) & (df['pa1']+df['pa2']<13), 'rem2'] = stud.final\n",
    "\n",
    "dfrem = pd.read_csv(\"../datos/rems/17dic.csv\", encoding = \"ISO-8859-15\")\n",
    "for stud in dfrem.itertuples():\n",
    "    df.loc[(df['anio']==2017) & (df['cuat']==1) & (df['dni']==stud.DNI) & (df['pa1']+df['pa2']>=8) & (df['pa1']+df['pa2']<13), 'rem1'] = stud.final\n",
    "\n",
    "dfrem = pd.read_csv(\"../datos/rems/18mar.csv\", encoding = \"ISO-8859-15\")\n",
    "for stud in dfrem.itertuples():\n",
    "    df.loc[(df['anio']==2017) & (df['cuat']==1) & (df['dni']==stud.DNI) & (df['pa1']+df['pa2']>=8) & (df['pa1']+df['pa2']<13), 'rem2'] = stud.final\n",
    "    df.loc[(df['anio']==2017) & (df['cuat']==2) & (df['dni']==stud.DNI) & (df['pa1']+df['pa2']>=8) & (df['pa1']+df['pa2']<13), 'rem1'] = stud.final\n",
    "\n",
    "dfrem = pd.read_csv(\"../datos/rems/18jul.csv\", encoding = \"ISO-8859-15\")\n",
    "for stud in dfrem.itertuples():\n",
    "    df.loc[(df['anio']==2017) & (df['cuat']==2) & (df['dni']==stud.DNI) & (df['pa1']+df['pa2']>=8) & (df['pa1']+df['pa2']<13), 'rem2'] = stud.final\n",
    "\n",
    "dfrem = pd.read_csv(\"../datos/rems/18dic.csv\", encoding = \"ISO-8859-15\")\n",
    "for stud in dfrem.itertuples():\n",
    "    df.loc[(df['anio']==2018) & (df['cuat']==1) & (df['dni']==stud.DNI) & (df['pa1']+df['pa2']>=8) & (df['pa1']+df['pa2']<13), 'rem1'] = stud.final\n",
    "\n",
    "dfrem = pd.read_csv(\"../datos/rems/19mar.csv\", encoding = \"ISO-8859-15\")\n",
    "for stud in dfrem.itertuples():\n",
    "    df.loc[(df['anio']==2018) & (df['cuat']==1) & (df['dni']==stud.DNI) & (df['pa1']+df['pa2']>=8) & (df['pa1']+df['pa2']<13), 'rem2'] = stud.final\n",
    "    df.loc[(df['anio']==2018) & (df['cuat']==2) & (df['dni']==stud.DNI) & (df['pa1']+df['pa2']>=8) & (df['pa1']+df['pa2']<13), 'rem1'] = stud.final\n",
    "\n",
    "dfrem = pd.read_csv(\"../datos/rems/19jul.csv\", encoding = \"ISO-8859-15\")\n",
    "for stud in dfrem.itertuples():\n",
    "    df.loc[(df['anio']==2018) & (df['cuat']==2) & (df['dni']==stud.DNI) & (df['pa1']+df['pa2']>=8) & (df['pa1']+df['pa2']<13), 'rem2'] = stud.Final\n",
    "\n",
    "dfrem = pd.read_csv(\"../datos/rems/19dic.csv\", encoding = \"ISO-8859-15\")\n",
    "for stud in dfrem.itertuples():\n",
    "    df.loc[(df['anio']==2019) & (df['cuat']==1) & (df['dni']==stud.DNI) & (df['pa1']+df['pa2']>=8) & (df['pa1']+df['pa2']<13), 'rem1'] = stud.final\n",
    "\n",
    "dfrem = pd.read_csv(\"../datos/rems/20mar.csv\", encoding = \"ISO-8859-15\")\n",
    "for stud in dfrem.itertuples():\n",
    "    df.loc[(df['anio']==2019) & (df['cuat']==1) & (df['dni']==stud.DNI) & (df['pa1']+df['pa2']>=8) & (df['pa1']+df['pa2']<13), 'rem2'] = stud.final\n",
    "    df.loc[(df['anio']==2019) & (df['cuat']==2) & (df['dni']==stud.DNI) & (df['pa1']+df['pa2']>=8) & (df['pa1']+df['pa2']<13), 'rem1'] = stud.final"
   ]
  },
  {
   "cell_type": "code",
   "execution_count": 95,
   "id": "1e7d3b2d",
   "metadata": {},
   "outputs": [
    {
     "name": "stdout",
     "output_type": "stream",
     "text": [
      "Notas rem 1:  [ 0.  1.  2.  3.  4.  5.  6.  7.  8.  9. 10. nan]\n",
      "Notas rem 2:  [ 0.  1.  2.  3.  4.  5.  6.  7.  8.  9. 10. nan]\n"
     ]
    }
   ],
   "source": [
    "# Reviso notas extrañas en remanentes\n",
    "df.loc[df['rem1'] == 99, 'rem1'] = np.nan\n",
    "df.loc[df['rem2'] == 99, 'rem2'] = np.nan\n",
    "\n",
    "notas1 = np.sort(df['rem1'].unique())\n",
    "notas2 = np.sort(df['rem2'].unique())\n",
    "\n",
    "print(\"Notas rem 1: \", notas1)\n",
    "print(\"Notas rem 2: \", notas2)"
   ]
  },
  {
   "cell_type": "code",
   "execution_count": 96,
   "id": "24b890be",
   "metadata": {},
   "outputs": [
    {
     "data": {
      "text/html": [
       "<div>\n",
       "<style scoped>\n",
       "    .dataframe tbody tr th:only-of-type {\n",
       "        vertical-align: middle;\n",
       "    }\n",
       "\n",
       "    .dataframe tbody tr th {\n",
       "        vertical-align: top;\n",
       "    }\n",
       "\n",
       "    .dataframe thead th {\n",
       "        text-align: right;\n",
       "    }\n",
       "</style>\n",
       "<table border=\"1\" class=\"dataframe\">\n",
       "  <thead>\n",
       "    <tr style=\"text-align: right;\">\n",
       "      <th></th>\n",
       "      <th>anio</th>\n",
       "      <th>cuat</th>\n",
       "      <th>COMISION</th>\n",
       "      <th>HORARIO</th>\n",
       "      <th>AULA</th>\n",
       "      <th>SEDE</th>\n",
       "      <th>MATERIA</th>\n",
       "      <th>pa1</th>\n",
       "      <th>pa2</th>\n",
       "      <th>Final</th>\n",
       "      <th>codCarrera</th>\n",
       "      <th>Carrera</th>\n",
       "      <th>facultad</th>\n",
       "      <th>rem1</th>\n",
       "      <th>rem2</th>\n",
       "    </tr>\n",
       "  </thead>\n",
       "  <tbody>\n",
       "    <tr>\n",
       "      <th>40119</th>\n",
       "      <td>2013</td>\n",
       "      <td>1</td>\n",
       "      <td>NaN</td>\n",
       "      <td>651.0</td>\n",
       "      <td>201.0</td>\n",
       "      <td>2</td>\n",
       "      <td>53</td>\n",
       "      <td>4.0</td>\n",
       "      <td>4.0</td>\n",
       "      <td>NaN</td>\n",
       "      <td>99.0</td>\n",
       "      <td>NaN</td>\n",
       "      <td>99.0</td>\n",
       "      <td>NaN</td>\n",
       "      <td>NaN</td>\n",
       "    </tr>\n",
       "    <tr>\n",
       "      <th>85050</th>\n",
       "      <td>2015</td>\n",
       "      <td>1</td>\n",
       "      <td>NaN</td>\n",
       "      <td>656.0</td>\n",
       "      <td>NaN</td>\n",
       "      <td>2</td>\n",
       "      <td>3</td>\n",
       "      <td>NaN</td>\n",
       "      <td>NaN</td>\n",
       "      <td>NaN</td>\n",
       "      <td>11.0</td>\n",
       "      <td>CIENCIAS BIOLOGICAS</td>\n",
       "      <td>CS EXACTAS Y NATURALES</td>\n",
       "      <td>NaN</td>\n",
       "      <td>NaN</td>\n",
       "    </tr>\n",
       "    <tr>\n",
       "      <th>89577</th>\n",
       "      <td>2015</td>\n",
       "      <td>1</td>\n",
       "      <td>NaN</td>\n",
       "      <td>656.0</td>\n",
       "      <td>NaN</td>\n",
       "      <td>2</td>\n",
       "      <td>53</td>\n",
       "      <td>NaN</td>\n",
       "      <td>NaN</td>\n",
       "      <td>NaN</td>\n",
       "      <td>39.0</td>\n",
       "      <td>MEDICINA</td>\n",
       "      <td>MEDICINA</td>\n",
       "      <td>NaN</td>\n",
       "      <td>NaN</td>\n",
       "    </tr>\n",
       "    <tr>\n",
       "      <th>90859</th>\n",
       "      <td>2015</td>\n",
       "      <td>1</td>\n",
       "      <td>NaN</td>\n",
       "      <td>656.0</td>\n",
       "      <td>NaN</td>\n",
       "      <td>2</td>\n",
       "      <td>3</td>\n",
       "      <td>NaN</td>\n",
       "      <td>NaN</td>\n",
       "      <td>NaN</td>\n",
       "      <td>90.0</td>\n",
       "      <td>INGENIERIA INFORMATICA</td>\n",
       "      <td>INGENIERIA</td>\n",
       "      <td>NaN</td>\n",
       "      <td>NaN</td>\n",
       "    </tr>\n",
       "  </tbody>\n",
       "</table>\n",
       "</div>"
      ],
      "text/plain": [
       "       anio  cuat  COMISION  HORARIO   AULA  SEDE  MATERIA  pa1  pa2  Final  \\\n",
       "40119  2013     1       NaN    651.0  201.0     2       53  4.0  4.0    NaN   \n",
       "85050  2015     1       NaN    656.0    NaN     2        3  NaN  NaN    NaN   \n",
       "89577  2015     1       NaN    656.0    NaN     2       53  NaN  NaN    NaN   \n",
       "90859  2015     1       NaN    656.0    NaN     2        3  NaN  NaN    NaN   \n",
       "\n",
       "       codCarrera                 Carrera                facultad  rem1  rem2  \n",
       "40119        99.0                     NaN                    99.0   NaN   NaN  \n",
       "85050        11.0     CIENCIAS BIOLOGICAS  CS EXACTAS Y NATURALES   NaN   NaN  \n",
       "89577        39.0                MEDICINA                MEDICINA   NaN   NaN  \n",
       "90859        90.0  INGENIERIA INFORMATICA              INGENIERIA   NaN   NaN  "
      ]
     },
     "execution_count": 96,
     "metadata": {},
     "output_type": "execute_result"
    }
   ],
   "source": [
    "############################################\n",
    "#\n",
    "# Corregir comisiones NaN\n",
    "#\n",
    "# Hay 4 registros sin comision, corrijo el valor \n",
    "# o imputo con el de una de las comisiones de ese horario y sede.\n",
    "#\n",
    "############################################\n",
    "df = df.reset_index(drop=True)\n",
    "df.loc[np.isnan(df['COMISION'])].drop(['dni'], axis=1)"
   ]
  },
  {
   "cell_type": "code",
   "execution_count": 97,
   "id": "93fbbaa4",
   "metadata": {},
   "outputs": [
    {
     "data": {
      "text/plain": [
       "array([   nan, 25301.])"
      ]
     },
     "execution_count": 97,
     "metadata": {},
     "output_type": "execute_result"
    }
   ],
   "source": [
    "df.loc[(df['anio'] == 2013) & (df['cuat'] == 1) & (df['HORARIO'] == 651) & (df['SEDE'] == 2) & (df['AULA'] == 201), 'COMISION'].unique()"
   ]
  },
  {
   "cell_type": "code",
   "execution_count": 98,
   "id": "e2a02687",
   "metadata": {},
   "outputs": [
    {
     "data": {
      "text/plain": [
       "array([25309., 25308., 25307., 20303., 20304.,    nan])"
      ]
     },
     "execution_count": 98,
     "metadata": {},
     "output_type": "execute_result"
    }
   ],
   "source": [
    "df.loc[(df['anio'] == 2015) & (df['cuat'] == 1) & (df['HORARIO'] == 656) & (df['SEDE'] == 2), 'COMISION'].unique()\n"
   ]
  },
  {
   "cell_type": "code",
   "execution_count": 99,
   "id": "df98a177",
   "metadata": {},
   "outputs": [],
   "source": [
    "df.loc[40119, 'COMISION'] = 25301\n",
    "df.loc[85050, 'COMISION'] = 20304\n",
    "df.loc[89577, 'COMISION'] = 25308\n",
    "df.loc[90859, 'COMISION'] = 20304"
   ]
  },
  {
   "cell_type": "code",
   "execution_count": 100,
   "id": "5be0c4cc",
   "metadata": {},
   "outputs": [
    {
     "data": {
      "text/plain": [
       "array([ 45.,  47.,  31.,  32.,  33.,  21.,  24.,  37., 214., 215., 211.,\n",
       "       212., 210., 213., 201., 203.,   2.,   3.,  11.,  10.,   4.,   7.,\n",
       "        25.,   1.,  38.,  40.,   9.,  15.,  26.,  12.,  20.,  23.,  13.,\n",
       "        14.,  16.,   5.,  29.,   8.,   6.,  28.,  nan,  35.,  22.,  39.,\n",
       "        19., 102., 101., 202., 209.,  18., 208.,  30.,  36.,  44., 207.,\n",
       "       206.,  27., 110., 106., 109., 112.,  43., 111., 103., 205., 108.,\n",
       "        99.,  46.,  17.])"
      ]
     },
     "execution_count": 100,
     "metadata": {},
     "output_type": "execute_result"
    }
   ],
   "source": [
    "############################################\n",
    "#\n",
    "# Corregir Aulas NaN\n",
    "#\n",
    "############################################\n",
    "\n",
    "df['AULA'].unique()"
   ]
  },
  {
   "cell_type": "code",
   "execution_count": 101,
   "id": "985e64ed",
   "metadata": {},
   "outputs": [
    {
     "name": "stdout",
     "output_type": "stream",
     "text": [
      "Cantidad con Aula = NaN :  119\n"
     ]
    },
    {
     "data": {
      "text/plain": [
       "anio  cuat  COMISION\n",
       "2011  1     215301.0    33\n",
       "2012  2     25300.0      1\n",
       "            25318.0      1\n",
       "2013  2     380301.0    15\n",
       "            385301.0    66\n",
       "2015  1     20304.0      2\n",
       "            25308.0      1\n",
       "dtype: int64"
      ]
     },
     "execution_count": 101,
     "metadata": {},
     "output_type": "execute_result"
    }
   ],
   "source": [
    "df_ = df.loc[df['AULA'].isna(), ['anio', 'cuat', 'COMISION']]\n",
    "print(\"Cantidad con Aula = NaN : \",len(df_))\n",
    "df_.groupby(by=['anio', 'cuat', 'COMISION']).size()\n"
   ]
  },
  {
   "cell_type": "code",
   "execution_count": 102,
   "id": "f70994d9",
   "metadata": {},
   "outputs": [
    {
     "name": "stdout",
     "output_type": "stream",
     "text": [
      "1 -  [nan]\n",
      "2 -  [nan]\n",
      "3 -  [212.  nan]\n",
      "4 -  [nan]\n",
      "5 -  [nan]\n",
      "6 -  [211.  nan]\n",
      "7 -  [209.  nan]\n"
     ]
    }
   ],
   "source": [
    "# Verifico si hay registros del mismo curso con número de AULA\n",
    "print(\"1 - \", df.loc[(df['anio'] == 2011) & (df['cuat'] == 1) & (df['COMISION'] == 215301), 'AULA'].unique())\n",
    "print(\"2 - \", df.loc[(df['anio'] == 2012) & (df['cuat'] == 2) & (df['COMISION'] == 25300), 'AULA'].unique())\n",
    "print(\"3 - \", df.loc[(df['anio'] == 2012) & (df['cuat'] == 2) & (df['COMISION'] == 25318), 'AULA'].unique())\n",
    "print(\"4 - \", df.loc[(df['anio'] == 2013) & (df['cuat'] == 2) & (df['COMISION'] == 380301), 'AULA'].unique())\n",
    "print(\"5 - \", df.loc[(df['anio'] == 2013) & (df['cuat'] == 2) & (df['COMISION'] == 385301), 'AULA'].unique())\n",
    "print(\"6 - \", df.loc[(df['anio'] == 2015) & (df['cuat'] == 1) & (df['COMISION'] == 20304), 'AULA'].unique())\n",
    "print(\"7 - \", df.loc[(df['anio'] == 2015) & (df['cuat'] == 1) & (df['COMISION'] == 25308), 'AULA'].unique())\n",
    "\n",
    "# Corrijo los que se tiene información:\n",
    "df.loc[(df['anio'] == 2012) & (df['cuat'] == 2) & (df['COMISION'] == 25318), 'AULA'] = 212\n",
    "df.loc[(df['anio'] == 2015) & (df['cuat'] == 1) & (df['COMISION'] == 20304), 'AULA'] = 211\n",
    "df.loc[(df['anio'] == 2015) & (df['cuat'] == 1) & (df['COMISION'] == 25308), 'AULA'] = 209\n"
   ]
  },
  {
   "cell_type": "code",
   "execution_count": 103,
   "id": "cd819588",
   "metadata": {},
   "outputs": [
    {
     "name": "stdout",
     "output_type": "stream",
     "text": [
      "1 - Otras aulas mismo cuatrimestre:  [nan]\n",
      "2 - Otras aulas mismo cuatrimestre:  [212. 214. 201.  nan 208. 211. 213. 209.]\n",
      "4 - Otras aulas mismo cuatrimestre:  [nan]\n",
      "5 - Otras aulas mismo cuatrimestre:  [nan]\n",
      "1 - Otras aulas otros cuatrimestres:  [ nan   1.   3. 211. 210.   2.   5.   4.   6.]\n",
      "4,5 - Otras aulas otros cuatrimestres:  [ nan   4.   1.   2.   7. 103. 101. 102.]\n"
     ]
    }
   ],
   "source": [
    "# Busco otras aulas en la misma sede\n",
    "print(\"1 - Otras aulas mismo cuatrimestre: \", df.loc[(df['anio'] == 2011) & (df['cuat'] == 1) & (df['SEDE'] == 21), 'AULA'].unique())\n",
    "print(\"2 - Otras aulas mismo cuatrimestre: \", df.loc[(df['anio'] == 2012) & (df['cuat'] == 2) & (df['SEDE'] == 2), 'AULA'].unique())\n",
    "print(\"4 - Otras aulas mismo cuatrimestre: \", df.loc[(df['anio'] == 2013) & (df['cuat'] == 2) & (df['SEDE'] == 38), 'AULA'].unique())\n",
    "print(\"5 - Otras aulas mismo cuatrimestre: \", df.loc[(df['anio'] == 2013) & (df['cuat'] == 2) & (df['SEDE'] == 38), 'AULA'].unique())\n",
    "\n",
    "# Corrijo caso 2:\n",
    "df.loc[(df['anio'] == 2012) & (df['cuat'] == 2) & (df['COMISION'] == 25300), 'AULA'] = 212\n",
    "\n",
    "# Busco aulas en esa sede en otros cuatrimestres:\n",
    "print(\"1 - Otras aulas otros cuatrimestres: \", df.loc[df['SEDE'] == 21, 'AULA'].unique())\n",
    "print(\"4,5 - Otras aulas otros cuatrimestres: \", df.loc[df['SEDE'] == 38, 'AULA'].unique())\n",
    "\n",
    "df.loc[(df['anio'] == 2011) & (df['cuat'] == 1) & (df['COMISION'] == 215301), 'AULA'] = 1\n",
    "df.loc[(df['anio'] == 2013) & (df['cuat'] == 2) & (df['COMISION'] == 380301), 'AULA'] = 4\n",
    "df.loc[(df['anio'] == 2013) & (df['cuat'] == 2) & (df['COMISION'] == 385301), 'AULA'] = 1"
   ]
  },
  {
   "cell_type": "code",
   "execution_count": 104,
   "id": "18df5ece",
   "metadata": {},
   "outputs": [
    {
     "data": {
      "text/plain": [
       "0"
      ]
     },
     "execution_count": 104,
     "metadata": {},
     "output_type": "execute_result"
    }
   ],
   "source": [
    "# Confirmo que no quedan aulas NaN:\n",
    "len(df.loc[df['AULA'].isna()])"
   ]
  },
  {
   "cell_type": "code",
   "execution_count": 105,
   "id": "42f4c20c",
   "metadata": {},
   "outputs": [],
   "source": [
    "df['codCarrera'] = df['codCarrera'].values.astype(int)\n",
    "df = df.drop(['Carrera'], axis=1)\n",
    "codigos_facultad.to_csv('../datos/codigos_carreras.csv', index=False)\n",
    "df.to_csv('../datos/dataset_01.csv', index=False)"
   ]
  },
  {
   "cell_type": "code",
   "execution_count": null,
   "id": "e647625c",
   "metadata": {},
   "outputs": [],
   "source": []
  }
 ],
 "metadata": {
  "kernelspec": {
   "display_name": "Python 3 (ipykernel)",
   "language": "python",
   "name": "python3"
  },
  "language_info": {
   "codemirror_mode": {
    "name": "ipython",
    "version": 3
   },
   "file_extension": ".py",
   "mimetype": "text/x-python",
   "name": "python",
   "nbconvert_exporter": "python",
   "pygments_lexer": "ipython3",
   "version": "3.11.2"
  }
 },
 "nbformat": 4,
 "nbformat_minor": 5
}
